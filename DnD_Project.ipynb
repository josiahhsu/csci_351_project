{
 "cells": [
  {
   "cell_type": "code",
   "execution_count": 1,
   "metadata": {},
   "outputs": [],
   "source": [
    "# Basic imports\n",
    "import pandas as pd\n",
    "import numpy as np\n",
    "from sklearn.model_selection import train_test_split\n",
    "import matplotlib.pyplot as plt"
   ]
  },
  {
   "cell_type": "code",
   "execution_count": 2,
   "metadata": {},
   "outputs": [],
   "source": [
    "# For presentation purposes we'll hide warnings that may arise from our models (i.e. convergence warnings).\n",
    "import warnings\n",
    "warnings.filterwarnings('ignore')"
   ]
  },
  {
   "cell_type": "markdown",
   "metadata": {},
   "source": [
    "# Data processing"
   ]
  },
  {
   "cell_type": "markdown",
   "metadata": {},
   "source": [
    "We start by importing our processed data, dropping columns unhelpful for classification, and separating the features from the target column."
   ]
  },
  {
   "cell_type": "code",
   "execution_count": 3,
   "metadata": {},
   "outputs": [],
   "source": [
    "dnd = pd.read_csv(\"dnd_monsters_processed.csv\").drop(columns=[\"Index\", \"name\"])\n",
    "features = dnd.drop(columns=[\"cr\"])\n",
    "target = dnd.cr"
   ]
  },
  {
   "cell_type": "markdown",
   "metadata": {},
   "source": [
    "Here's what the complete dataset looks like."
   ]
  },
  {
   "cell_type": "code",
   "execution_count": 4,
   "metadata": {},
   "outputs": [
    {
     "data": {
      "text/html": [
       "<div>\n",
       "<style scoped>\n",
       "    .dataframe tbody tr th:only-of-type {\n",
       "        vertical-align: middle;\n",
       "    }\n",
       "\n",
       "    .dataframe tbody tr th {\n",
       "        vertical-align: top;\n",
       "    }\n",
       "\n",
       "    .dataframe thead th {\n",
       "        text-align: right;\n",
       "    }\n",
       "</style>\n",
       "<table border=\"1\" class=\"dataframe\">\n",
       "  <thead>\n",
       "    <tr style=\"text-align: right;\">\n",
       "      <th></th>\n",
       "      <th>size</th>\n",
       "      <th>type</th>\n",
       "      <th>alignment</th>\n",
       "      <th>ac</th>\n",
       "      <th>hp</th>\n",
       "      <th>cr</th>\n",
       "      <th>speed</th>\n",
       "      <th>swim</th>\n",
       "      <th>climb</th>\n",
       "      <th>fly</th>\n",
       "      <th>burrow</th>\n",
       "      <th>strength</th>\n",
       "      <th>dex</th>\n",
       "      <th>con</th>\n",
       "      <th>intel</th>\n",
       "      <th>wis</th>\n",
       "      <th>cha</th>\n",
       "      <th>legendary</th>\n",
       "    </tr>\n",
       "  </thead>\n",
       "  <tbody>\n",
       "    <tr>\n",
       "      <th>0</th>\n",
       "      <td>2</td>\n",
       "      <td>0</td>\n",
       "      <td>0</td>\n",
       "      <td>12.0</td>\n",
       "      <td>13</td>\n",
       "      <td>0.25</td>\n",
       "      <td>20</td>\n",
       "      <td>0</td>\n",
       "      <td>0</td>\n",
       "      <td>50</td>\n",
       "      <td>0</td>\n",
       "      <td>10</td>\n",
       "      <td>14</td>\n",
       "      <td>10</td>\n",
       "      <td>11</td>\n",
       "      <td>12</td>\n",
       "      <td>11</td>\n",
       "      <td>0</td>\n",
       "    </tr>\n",
       "    <tr>\n",
       "      <th>1</th>\n",
       "      <td>2</td>\n",
       "      <td>1</td>\n",
       "      <td>1</td>\n",
       "      <td>12.0</td>\n",
       "      <td>84</td>\n",
       "      <td>9.00</td>\n",
       "      <td>30</td>\n",
       "      <td>0</td>\n",
       "      <td>0</td>\n",
       "      <td>0</td>\n",
       "      <td>0</td>\n",
       "      <td>9</td>\n",
       "      <td>14</td>\n",
       "      <td>14</td>\n",
       "      <td>18</td>\n",
       "      <td>12</td>\n",
       "      <td>11</td>\n",
       "      <td>0</td>\n",
       "    </tr>\n",
       "    <tr>\n",
       "      <th>2</th>\n",
       "      <td>3</td>\n",
       "      <td>2</td>\n",
       "      <td>2</td>\n",
       "      <td>17.0</td>\n",
       "      <td>135</td>\n",
       "      <td>10.00</td>\n",
       "      <td>10</td>\n",
       "      <td>40</td>\n",
       "      <td>0</td>\n",
       "      <td>0</td>\n",
       "      <td>0</td>\n",
       "      <td>21</td>\n",
       "      <td>9</td>\n",
       "      <td>15</td>\n",
       "      <td>18</td>\n",
       "      <td>15</td>\n",
       "      <td>18</td>\n",
       "      <td>1</td>\n",
       "    </tr>\n",
       "    <tr>\n",
       "      <th>3</th>\n",
       "      <td>4</td>\n",
       "      <td>3</td>\n",
       "      <td>3</td>\n",
       "      <td>15.0</td>\n",
       "      <td>137</td>\n",
       "      <td>9.00</td>\n",
       "      <td>40</td>\n",
       "      <td>0</td>\n",
       "      <td>40</td>\n",
       "      <td>0</td>\n",
       "      <td>0</td>\n",
       "      <td>24</td>\n",
       "      <td>10</td>\n",
       "      <td>22</td>\n",
       "      <td>9</td>\n",
       "      <td>13</td>\n",
       "      <td>9</td>\n",
       "      <td>0</td>\n",
       "    </tr>\n",
       "    <tr>\n",
       "      <th>4</th>\n",
       "      <td>2</td>\n",
       "      <td>4</td>\n",
       "      <td>4</td>\n",
       "      <td>21.0</td>\n",
       "      <td>285</td>\n",
       "      <td>23.00</td>\n",
       "      <td>30</td>\n",
       "      <td>0</td>\n",
       "      <td>0</td>\n",
       "      <td>0</td>\n",
       "      <td>0</td>\n",
       "      <td>13</td>\n",
       "      <td>16</td>\n",
       "      <td>20</td>\n",
       "      <td>27</td>\n",
       "      <td>21</td>\n",
       "      <td>20</td>\n",
       "      <td>0</td>\n",
       "    </tr>\n",
       "    <tr>\n",
       "      <th>...</th>\n",
       "      <td>...</td>\n",
       "      <td>...</td>\n",
       "      <td>...</td>\n",
       "      <td>...</td>\n",
       "      <td>...</td>\n",
       "      <td>...</td>\n",
       "      <td>...</td>\n",
       "      <td>...</td>\n",
       "      <td>...</td>\n",
       "      <td>...</td>\n",
       "      <td>...</td>\n",
       "      <td>...</td>\n",
       "      <td>...</td>\n",
       "      <td>...</td>\n",
       "      <td>...</td>\n",
       "      <td>...</td>\n",
       "      <td>...</td>\n",
       "      <td>...</td>\n",
       "    </tr>\n",
       "    <tr>\n",
       "      <th>757</th>\n",
       "      <td>2</td>\n",
       "      <td>70</td>\n",
       "      <td>4</td>\n",
       "      <td>11.0</td>\n",
       "      <td>40</td>\n",
       "      <td>1.00</td>\n",
       "      <td>30</td>\n",
       "      <td>0</td>\n",
       "      <td>0</td>\n",
       "      <td>0</td>\n",
       "      <td>0</td>\n",
       "      <td>11</td>\n",
       "      <td>12</td>\n",
       "      <td>11</td>\n",
       "      <td>13</td>\n",
       "      <td>12</td>\n",
       "      <td>14</td>\n",
       "      <td>0</td>\n",
       "    </tr>\n",
       "    <tr>\n",
       "      <th>758</th>\n",
       "      <td>5</td>\n",
       "      <td>7</td>\n",
       "      <td>8</td>\n",
       "      <td>21.0</td>\n",
       "      <td>307</td>\n",
       "      <td>22.00</td>\n",
       "      <td>40</td>\n",
       "      <td>40</td>\n",
       "      <td>0</td>\n",
       "      <td>0</td>\n",
       "      <td>0</td>\n",
       "      <td>30</td>\n",
       "      <td>10</td>\n",
       "      <td>30</td>\n",
       "      <td>2</td>\n",
       "      <td>21</td>\n",
       "      <td>18</td>\n",
       "      <td>0</td>\n",
       "    </tr>\n",
       "    <tr>\n",
       "      <th>759</th>\n",
       "      <td>3</td>\n",
       "      <td>11</td>\n",
       "      <td>2</td>\n",
       "      <td>21.0</td>\n",
       "      <td>580</td>\n",
       "      <td>26.00</td>\n",
       "      <td>50</td>\n",
       "      <td>0</td>\n",
       "      <td>0</td>\n",
       "      <td>150</td>\n",
       "      <td>0</td>\n",
       "      <td>27</td>\n",
       "      <td>24</td>\n",
       "      <td>28</td>\n",
       "      <td>26</td>\n",
       "      <td>27</td>\n",
       "      <td>30</td>\n",
       "      <td>1</td>\n",
       "    </tr>\n",
       "    <tr>\n",
       "      <th>760</th>\n",
       "      <td>2</td>\n",
       "      <td>4</td>\n",
       "      <td>4</td>\n",
       "      <td>8.0</td>\n",
       "      <td>22</td>\n",
       "      <td>0.25</td>\n",
       "      <td>20</td>\n",
       "      <td>0</td>\n",
       "      <td>0</td>\n",
       "      <td>0</td>\n",
       "      <td>0</td>\n",
       "      <td>13</td>\n",
       "      <td>6</td>\n",
       "      <td>16</td>\n",
       "      <td>3</td>\n",
       "      <td>6</td>\n",
       "      <td>5</td>\n",
       "      <td>0</td>\n",
       "    </tr>\n",
       "    <tr>\n",
       "      <th>761</th>\n",
       "      <td>3</td>\n",
       "      <td>9</td>\n",
       "      <td>3</td>\n",
       "      <td>18.0</td>\n",
       "      <td>304</td>\n",
       "      <td>23.00</td>\n",
       "      <td>30</td>\n",
       "      <td>0</td>\n",
       "      <td>0</td>\n",
       "      <td>0</td>\n",
       "      <td>0</td>\n",
       "      <td>22</td>\n",
       "      <td>15</td>\n",
       "      <td>18</td>\n",
       "      <td>20</td>\n",
       "      <td>19</td>\n",
       "      <td>24</td>\n",
       "      <td>0</td>\n",
       "    </tr>\n",
       "  </tbody>\n",
       "</table>\n",
       "<p>762 rows × 18 columns</p>\n",
       "</div>"
      ],
      "text/plain": [
       "     size  type  alignment    ac   hp     cr  speed  swim  climb  fly  burrow  \\\n",
       "0       2     0          0  12.0   13   0.25     20     0      0   50       0   \n",
       "1       2     1          1  12.0   84   9.00     30     0      0    0       0   \n",
       "2       3     2          2  17.0  135  10.00     10    40      0    0       0   \n",
       "3       4     3          3  15.0  137   9.00     40     0     40    0       0   \n",
       "4       2     4          4  21.0  285  23.00     30     0      0    0       0   \n",
       "..    ...   ...        ...   ...  ...    ...    ...   ...    ...  ...     ...   \n",
       "757     2    70          4  11.0   40   1.00     30     0      0    0       0   \n",
       "758     5     7          8  21.0  307  22.00     40    40      0    0       0   \n",
       "759     3    11          2  21.0  580  26.00     50     0      0  150       0   \n",
       "760     2     4          4   8.0   22   0.25     20     0      0    0       0   \n",
       "761     3     9          3  18.0  304  23.00     30     0      0    0       0   \n",
       "\n",
       "     strength  dex  con  intel  wis  cha  legendary  \n",
       "0          10   14   10     11   12   11          0  \n",
       "1           9   14   14     18   12   11          0  \n",
       "2          21    9   15     18   15   18          1  \n",
       "3          24   10   22      9   13    9          0  \n",
       "4          13   16   20     27   21   20          0  \n",
       "..        ...  ...  ...    ...  ...  ...        ...  \n",
       "757        11   12   11     13   12   14          0  \n",
       "758        30   10   30      2   21   18          0  \n",
       "759        27   24   28     26   27   30          1  \n",
       "760        13    6   16      3    6    5          0  \n",
       "761        22   15   18     20   19   24          0  \n",
       "\n",
       "[762 rows x 18 columns]"
      ]
     },
     "execution_count": 4,
     "metadata": {},
     "output_type": "execute_result"
    }
   ],
   "source": [
    "dnd"
   ]
  },
  {
   "cell_type": "markdown",
   "metadata": {},
   "source": [
    "Here's a visual for how many monsters are in each challenge rating class."
   ]
  },
  {
   "cell_type": "code",
   "execution_count": 18,
   "metadata": {},
   "outputs": [
    {
     "data": {
      "text/plain": [
       "<AxesSubplot:title={'center':'Count of Challenge Ratings'}, xlabel='Challenge Ratings', ylabel='Count'>"
      ]
     },
     "execution_count": 18,
     "metadata": {},
     "output_type": "execute_result"
    },
    {
     "data": {
      "image/png": "[encoded data removed]",
      "text/plain": [
       "<Figure size 1008x576 with 1 Axes>"
      ]
     },
     "metadata": {
      "needs_background": "light"
     },
     "output_type": "display_data"
    }
   ],
   "source": [
    "ax = dnd.cr.value_counts().sort_index().plot(kind='bar', figsize=(14,8),title=\"Count of Challenge Ratings\")\n",
    "ax.set_xlabel(\"Challenge Ratings\")\n",
    "ax.set_ylabel(\"Count\")\n",
    "ax"
   ]
  },
  {
   "cell_type": "markdown",
   "metadata": {},
   "source": [
    "For our machine learning models we'll need to convert the features and targets to numpy arrays."
   ]
  },
  {
   "cell_type": "code",
   "execution_count": 6,
   "metadata": {},
   "outputs": [],
   "source": [
    "X = features.to_numpy()\n",
    "y = target.to_numpy()"
   ]
  },
  {
   "cell_type": "markdown",
   "metadata": {},
   "source": [
    "Since not all models can take real-numbered targets, we also create a shifted target vector that converts the fractional challenge ratings the lowest-valued integers and shift the rest of the challenge ratings to accommodate them."
   ]
  },
  {
   "cell_type": "code",
   "execution_count": 7,
   "metadata": {},
   "outputs": [],
   "source": [
    "y_shift = []\n",
    "for i in y:\n",
    "    if i == .125:\n",
    "        y_shift.append(1)\n",
    "    elif i == .25:\n",
    "        y_shift.append(2)\n",
    "    elif i == .5:\n",
    "        y_shift.append(3)\n",
    "    else:\n",
    "        y_shift.append(i+3)"
   ]
  },
  {
   "cell_type": "markdown",
   "metadata": {},
   "source": [
    "In addition to using the whole dataset, we thought that it would be interesting to partition the dataset into different categories and test how much influence each category had. When examining the data, three main partitions stood out: general traits, mobility capabilities, and ability scores. To examine their individual impacts we created an array of modified observations with different combinations of these categories."
   ]
  },
  {
   "cell_type": "code",
   "execution_count": 8,
   "metadata": {},
   "outputs": [],
   "source": [
    "traits = [\"size\", \"type\", \"alignment\", \"legendary\"]\n",
    "mobility = [\"speed\", \"swim\", \"climb\", \"fly\", \"burrow\"]\n",
    "abilityscore = [\"ac\", \"hp\",\"strength\", \"dex\", \"con\", \"intel\", \"wis\", \"cha\"]\n",
    "\n",
    "names = [\"No traits\", \"No mobility\", \"No ability score\", \"Only traits\", \"Only mobility\", \"Only ability score\"]\n",
    "X_mod = [features.drop(columns=traits)]\n",
    "X_mod.append(features.drop(columns=mobility))\n",
    "X_mod.append(features.drop(columns=abilityscore))\n",
    "X_mod.append(features.drop(columns=mobility+abilityscore))\n",
    "X_mod.append(features.drop(columns=abilityscore+traits))\n",
    "X_mod.append(features.drop(columns=traits+mobility))"
   ]
  },
  {
   "cell_type": "markdown",
   "metadata": {},
   "source": [
    "# Testing Tools"
   ]
  },
  {
   "cell_type": "markdown",
   "metadata": {},
   "source": [
    "To run our experiments, we created a helper function that takes a model, the observations, target values, and a number of trials to run. This allowed us to easily run experiments per model and find an average score for them."
   ]
  },
  {
   "cell_type": "code",
   "execution_count": 9,
   "metadata": {},
   "outputs": [],
   "source": [
    "def test_model(model, X, y, trials):\n",
    "    test = []\n",
    "    train = []\n",
    "    for i in range(trials):\n",
    "        X_train, X_test, y_train, y_test = train_test_split(X, y)    \n",
    "        model.fit(X_train, y_train)\n",
    "        test.append(model.score(X_test, y_test))\n",
    "        train.append(model.score(X_train, y_train))\n",
    "\n",
    "    print(\"Accuracy on training set: {:.5f}\".format(np.mean(train)))\n",
    "    print(\"Accuracy on test set: {:.5f}\".format(np.mean(test)))"
   ]
  },
  {
   "cell_type": "markdown",
   "metadata": {},
   "source": [
    "Similarly, we create a helper function to test how the model performs when using the various feature partitions."
   ]
  },
  {
   "cell_type": "code",
   "execution_count": 21,
   "metadata": {},
   "outputs": [],
   "source": [
    "def test_model_mod(model, names, X, y, trials):\n",
    "    for i in range(len(names)):\n",
    "        print(names[i])\n",
    "        test_model(model, X[i], y, 100)\n",
    "        print()"
   ]
  },
  {
   "cell_type": "markdown",
   "metadata": {},
   "source": [
    "For each model family, we start by running the test_model function on all the features to create a baseline for expected accuracy. We then run the model against the different feature partitions to see what changes. "
   ]
  },
  {
   "cell_type": "markdown",
   "metadata": {},
   "source": [
    "# KNN Classification and Regression"
   ]
  },
  {
   "cell_type": "markdown",
   "metadata": {},
   "source": [
    "As a baseline, we first started by trying to use knn classification and regression schemes. Since knn models cannot use continuous target values, we had to use the shifted targets. Starting with knn classification, we see that it wasn't very effective."
   ]
  },
  {
   "cell_type": "code",
   "execution_count": 11,
   "metadata": {},
   "outputs": [
    {
     "name": "stdout",
     "output_type": "stream",
     "text": [
      "Accuracy on training set: 0.39797\n",
      "Accuracy on test set: 0.27963\n"
     ]
    }
   ],
   "source": [
    "from sklearn.neighbors import KNeighborsClassifier\n",
    "knn = KNeighborsClassifier(15)\n",
    "test_model(knn, X, y_shift, 100)"
   ]
  },
  {
   "cell_type": "markdown",
   "metadata": {},
   "source": [
    "But when using the knn regression model, we find that it works much better."
   ]
  },
  {
   "cell_type": "code",
   "execution_count": 12,
   "metadata": {},
   "outputs": [
    {
     "name": "stdout",
     "output_type": "stream",
     "text": [
      "Accuracy on training set: 0.91587\n",
      "Accuracy on test set: 0.89903\n"
     ]
    }
   ],
   "source": [
    "from sklearn.neighbors import KNeighborsRegressor\n",
    "knn_reg = KNeighborsRegressor(15)\n",
    "test_model(knn_reg, X, y_shift, 100)"
   ]
  },
  {
   "cell_type": "markdown",
   "metadata": {},
   "source": [
    "Since regression is more appropriate for determining challenge rating, we choose to focus on regression model families for the rest of our experiments. Let's examine what happens when we use the modified features on the knn regressor."
   ]
  },
  {
   "cell_type": "code",
   "execution_count": 13,
   "metadata": {},
   "outputs": [
    {
     "name": "stdout",
     "output_type": "stream",
     "text": [
      "No traits\n",
      "Accuracy on training set: 0.91818\n",
      "Accuracy on test set: 0.90754\n",
      "\n",
      "No mobility\n",
      "Accuracy on training set: 0.92048\n",
      "Accuracy on test set: 0.90785\n",
      "\n",
      "No ability score\n",
      "Accuracy on training set: 0.32980\n",
      "Accuracy on test set: 0.21303\n",
      "\n",
      "Only traits\n",
      "Accuracy on training set: 0.47029\n",
      "Accuracy on test set: 0.38437\n",
      "\n",
      "Only mobility\n",
      "Accuracy on training set: 0.22819\n",
      "Accuracy on test set: 0.16254\n",
      "\n",
      "Only ability score\n",
      "Accuracy on training set: 0.92253\n",
      "Accuracy on test set: 0.91313\n",
      "\n"
     ]
    }
   ],
   "source": [
    "knn_reg = KNeighborsRegressor(15)\n",
    "test_model_mod(knn_reg, names, X_mod, y_shift, 100)"
   ]
  },
  {
   "cell_type": "markdown",
   "metadata": {},
   "source": [
    "# Linear Regression"
   ]
  },
  {
   "cell_type": "markdown",
   "metadata": {},
   "source": [
    "Our next set of tests uses the linear regression model. This ran much faster compared to knn regression, but had a slight hit to accuracy."
   ]
  },
  {
   "cell_type": "code",
   "execution_count": 14,
   "metadata": {},
   "outputs": [
    {
     "name": "stdout",
     "output_type": "stream",
     "text": [
      "Accuracy on training set: 0.90514\n",
      "Accuracy on test set: 0.89237\n"
     ]
    }
   ],
   "source": [
    "from sklearn.linear_model import LinearRegression\n",
    "lr = LinearRegression()\n",
    "test_model(lr, X, y, 100)"
   ]
  },
  {
   "cell_type": "markdown",
   "metadata": {},
   "source": [
    "And now for the modified features."
   ]
  },
  {
   "cell_type": "code",
   "execution_count": 19,
   "metadata": {},
   "outputs": [
    {
     "name": "stdout",
     "output_type": "stream",
     "text": [
      "No traits\n",
      "Accuracy on training set: 0.90315\n",
      "Accuracy on test set: 0.89444\n",
      "\n",
      "No mobility\n",
      "Accuracy on training set: 0.90017\n",
      "Accuracy on test set: 0.89078\n",
      "\n",
      "No ability score\n",
      "Accuracy on training set: 0.45273\n",
      "Accuracy on test set: 0.43601\n",
      "\n",
      "Only traits\n",
      "Accuracy on training set: 0.42947\n",
      "Accuracy on test set: 0.41506\n",
      "\n",
      "Only mobility\n",
      "Accuracy on training set: 0.20143\n",
      "Accuracy on test set: 0.17437\n",
      "\n",
      "Only ability score\n",
      "Accuracy on training set: 0.89979\n",
      "Accuracy on test set: 0.89093\n",
      "\n"
     ]
    }
   ],
   "source": [
    "lr = LinearRegression()\n",
    "test_model_mod(lr, names, X_mod, y, 100)"
   ]
  },
  {
   "cell_type": "markdown",
   "metadata": {},
   "source": [
    "# MLP Regression"
   ]
  },
  {
   "cell_type": "markdown",
   "metadata": {},
   "source": [
    "We then used a multilevel perception model. This was the slowest to run of them all, so we had to reduce the number of trials to get results in a reasonable amount of time, but it had the most accuracy overall."
   ]
  },
  {
   "cell_type": "code",
   "execution_count": 16,
   "metadata": {},
   "outputs": [
    {
     "name": "stdout",
     "output_type": "stream",
     "text": [
      "Accuracy on training set: 0.94966\n",
      "Accuracy on test set: 0.91609\n"
     ]
    }
   ],
   "source": [
    "from sklearn.neural_network import MLPRegressor\n",
    "mlp = MLPRegressor()\n",
    "test_model(mlp, X, y, 10)"
   ]
  },
  {
   "cell_type": "markdown",
   "metadata": {},
   "source": [
    "And once again, modified features."
   ]
  },
  {
   "cell_type": "code",
   "execution_count": 17,
   "metadata": {},
   "outputs": [
    {
     "name": "stdout",
     "output_type": "stream",
     "text": [
      "No traits\n",
      "Accuracy on training set: 0.94382\n",
      "Accuracy on test set: 0.91577\n",
      "\n",
      "No mobility\n",
      "Accuracy on training set: 0.94286\n",
      "Accuracy on test set: 0.92739\n",
      "\n",
      "No ability score\n",
      "Accuracy on training set: 0.53179\n",
      "Accuracy on test set: 0.44615\n",
      "\n",
      "Only traits\n",
      "Accuracy on training set: 0.51153\n",
      "Accuracy on test set: 0.48367\n",
      "\n",
      "Only mobility\n",
      "Accuracy on training set: 0.24883\n",
      "Accuracy on test set: 0.17777\n",
      "\n",
      "Only ability score\n",
      "Accuracy on training set: 0.93582\n",
      "Accuracy on test set: 0.92403\n",
      "\n"
     ]
    }
   ],
   "source": [
    "mlp = MLPRegressor()\n",
    "test_model_mod(mlp, names, X_mod, y, 10)"
   ]
  },
  {
   "cell_type": "markdown",
   "metadata": {},
   "source": [
    "# Conclusions"
   ]
  },
  {
   "cell_type": "markdown",
   "metadata": {},
   "source": [
    "*insert conclusion here*"
   ]
  }
 ],
 "metadata": {
  "kernelspec": {
   "display_name": "Python 3",
   "language": "python",
   "name": "python3"
  },
  "language_info": {
   "codemirror_mode": {
    "name": "ipython",
    "version": 3
   },
   "file_extension": ".py",
   "mimetype": "text/x-python",
   "name": "python",
   "nbconvert_exporter": "python",
   "pygments_lexer": "ipython3",
   "version": "3.8.5"
  }
 },
 "nbformat": 4,
 "nbformat_minor": 2
}
