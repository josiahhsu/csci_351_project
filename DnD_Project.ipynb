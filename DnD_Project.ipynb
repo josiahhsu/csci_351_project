{
 "cells": [
  {
   "cell_type": "code",
   "execution_count": 34,
   "metadata": {},
   "outputs": [],
   "source": [
    "# Basic imports\n",
    "import pandas as pd\n",
    "import numpy as np\n",
    "from sklearn.model_selection import train_test_split\n",
    "import matplotlib.pyplot as plt\n",
    "\n",
    "# Model imports\n",
    "from sklearn.neighbors import KNeighborsClassifier\n",
    "from sklearn.neighbors import KNeighborsRegressor\n",
    "from sklearn.linear_model import LinearRegression\n",
    "from sklearn.neural_network import MLPRegressor"
   ]
  },
  {
   "cell_type": "markdown",
   "metadata": {},
   "source": [
    "# Data processing"
   ]
  },
  {
   "cell_type": "markdown",
   "metadata": {},
   "source": [
    "We start by importing our processed data, which had removed some features we deemed irrelevant for our purposes and translated textual data to numeric values. The exact mapping of textual to numeric values is noted in a later cell, but they won't matter for training the models. The numeric representation suffices for distinguishing these features from each other.\n",
    "\n",
    "Once the data is imported we also strip the identification information and separate the features from the challenge ratings."
   ]
  },
  {
   "cell_type": "code",
   "execution_count": 35,
   "metadata": {},
   "outputs": [],
   "source": [
    "dnd = pd.read_csv(\"dnd_monsters_processed.csv\").drop(columns=[\"Index\", \"name\"])\n",
    "features = dnd.drop(columns=[\"cr\"])\n",
    "target = dnd.cr"
   ]
  },
  {
   "cell_type": "markdown",
   "metadata": {},
   "source": [
    "Here's what the resulting dataset looks like. "
   ]
  },
  {
   "cell_type": "code",
   "execution_count": 36,
   "metadata": {},
   "outputs": [
    {
     "data": {
      "text/html": [
       "<div>\n",
       "<style scoped>\n",
       "    .dataframe tbody tr th:only-of-type {\n",
       "        vertical-align: middle;\n",
       "    }\n",
       "\n",
       "    .dataframe tbody tr th {\n",
       "        vertical-align: top;\n",
       "    }\n",
       "\n",
       "    .dataframe thead th {\n",
       "        text-align: right;\n",
       "    }\n",
       "</style>\n",
       "<table border=\"1\" class=\"dataframe\">\n",
       "  <thead>\n",
       "    <tr style=\"text-align: right;\">\n",
       "      <th></th>\n",
       "      <th>size</th>\n",
       "      <th>type</th>\n",
       "      <th>alignment</th>\n",
       "      <th>ac</th>\n",
       "      <th>hp</th>\n",
       "      <th>cr</th>\n",
       "      <th>speed</th>\n",
       "      <th>swim</th>\n",
       "      <th>climb</th>\n",
       "      <th>fly</th>\n",
       "      <th>burrow</th>\n",
       "      <th>strength</th>\n",
       "      <th>dex</th>\n",
       "      <th>con</th>\n",
       "      <th>intel</th>\n",
       "      <th>wis</th>\n",
       "      <th>cha</th>\n",
       "      <th>legendary</th>\n",
       "    </tr>\n",
       "  </thead>\n",
       "  <tbody>\n",
       "    <tr>\n",
       "      <th>0</th>\n",
       "      <td>2</td>\n",
       "      <td>0</td>\n",
       "      <td>0</td>\n",
       "      <td>12.0</td>\n",
       "      <td>13</td>\n",
       "      <td>0.25</td>\n",
       "      <td>20</td>\n",
       "      <td>0</td>\n",
       "      <td>0</td>\n",
       "      <td>50</td>\n",
       "      <td>0</td>\n",
       "      <td>10</td>\n",
       "      <td>14</td>\n",
       "      <td>10</td>\n",
       "      <td>11</td>\n",
       "      <td>12</td>\n",
       "      <td>11</td>\n",
       "      <td>0</td>\n",
       "    </tr>\n",
       "    <tr>\n",
       "      <th>1</th>\n",
       "      <td>2</td>\n",
       "      <td>1</td>\n",
       "      <td>1</td>\n",
       "      <td>12.0</td>\n",
       "      <td>84</td>\n",
       "      <td>9.00</td>\n",
       "      <td>30</td>\n",
       "      <td>0</td>\n",
       "      <td>0</td>\n",
       "      <td>0</td>\n",
       "      <td>0</td>\n",
       "      <td>9</td>\n",
       "      <td>14</td>\n",
       "      <td>14</td>\n",
       "      <td>18</td>\n",
       "      <td>12</td>\n",
       "      <td>11</td>\n",
       "      <td>0</td>\n",
       "    </tr>\n",
       "    <tr>\n",
       "      <th>2</th>\n",
       "      <td>3</td>\n",
       "      <td>2</td>\n",
       "      <td>2</td>\n",
       "      <td>17.0</td>\n",
       "      <td>135</td>\n",
       "      <td>10.00</td>\n",
       "      <td>10</td>\n",
       "      <td>40</td>\n",
       "      <td>0</td>\n",
       "      <td>0</td>\n",
       "      <td>0</td>\n",
       "      <td>21</td>\n",
       "      <td>9</td>\n",
       "      <td>15</td>\n",
       "      <td>18</td>\n",
       "      <td>15</td>\n",
       "      <td>18</td>\n",
       "      <td>1</td>\n",
       "    </tr>\n",
       "    <tr>\n",
       "      <th>3</th>\n",
       "      <td>4</td>\n",
       "      <td>3</td>\n",
       "      <td>3</td>\n",
       "      <td>15.0</td>\n",
       "      <td>137</td>\n",
       "      <td>9.00</td>\n",
       "      <td>40</td>\n",
       "      <td>0</td>\n",
       "      <td>40</td>\n",
       "      <td>0</td>\n",
       "      <td>0</td>\n",
       "      <td>24</td>\n",
       "      <td>10</td>\n",
       "      <td>22</td>\n",
       "      <td>9</td>\n",
       "      <td>13</td>\n",
       "      <td>9</td>\n",
       "      <td>0</td>\n",
       "    </tr>\n",
       "    <tr>\n",
       "      <th>4</th>\n",
       "      <td>2</td>\n",
       "      <td>4</td>\n",
       "      <td>4</td>\n",
       "      <td>21.0</td>\n",
       "      <td>285</td>\n",
       "      <td>23.00</td>\n",
       "      <td>30</td>\n",
       "      <td>0</td>\n",
       "      <td>0</td>\n",
       "      <td>0</td>\n",
       "      <td>0</td>\n",
       "      <td>13</td>\n",
       "      <td>16</td>\n",
       "      <td>20</td>\n",
       "      <td>27</td>\n",
       "      <td>21</td>\n",
       "      <td>20</td>\n",
       "      <td>0</td>\n",
       "    </tr>\n",
       "    <tr>\n",
       "      <th>...</th>\n",
       "      <td>...</td>\n",
       "      <td>...</td>\n",
       "      <td>...</td>\n",
       "      <td>...</td>\n",
       "      <td>...</td>\n",
       "      <td>...</td>\n",
       "      <td>...</td>\n",
       "      <td>...</td>\n",
       "      <td>...</td>\n",
       "      <td>...</td>\n",
       "      <td>...</td>\n",
       "      <td>...</td>\n",
       "      <td>...</td>\n",
       "      <td>...</td>\n",
       "      <td>...</td>\n",
       "      <td>...</td>\n",
       "      <td>...</td>\n",
       "      <td>...</td>\n",
       "    </tr>\n",
       "    <tr>\n",
       "      <th>757</th>\n",
       "      <td>2</td>\n",
       "      <td>70</td>\n",
       "      <td>4</td>\n",
       "      <td>11.0</td>\n",
       "      <td>40</td>\n",
       "      <td>1.00</td>\n",
       "      <td>30</td>\n",
       "      <td>0</td>\n",
       "      <td>0</td>\n",
       "      <td>0</td>\n",
       "      <td>0</td>\n",
       "      <td>11</td>\n",
       "      <td>12</td>\n",
       "      <td>11</td>\n",
       "      <td>13</td>\n",
       "      <td>12</td>\n",
       "      <td>14</td>\n",
       "      <td>0</td>\n",
       "    </tr>\n",
       "    <tr>\n",
       "      <th>758</th>\n",
       "      <td>5</td>\n",
       "      <td>7</td>\n",
       "      <td>8</td>\n",
       "      <td>21.0</td>\n",
       "      <td>307</td>\n",
       "      <td>22.00</td>\n",
       "      <td>40</td>\n",
       "      <td>40</td>\n",
       "      <td>0</td>\n",
       "      <td>0</td>\n",
       "      <td>0</td>\n",
       "      <td>30</td>\n",
       "      <td>10</td>\n",
       "      <td>30</td>\n",
       "      <td>2</td>\n",
       "      <td>21</td>\n",
       "      <td>18</td>\n",
       "      <td>0</td>\n",
       "    </tr>\n",
       "    <tr>\n",
       "      <th>759</th>\n",
       "      <td>3</td>\n",
       "      <td>11</td>\n",
       "      <td>2</td>\n",
       "      <td>21.0</td>\n",
       "      <td>580</td>\n",
       "      <td>26.00</td>\n",
       "      <td>50</td>\n",
       "      <td>0</td>\n",
       "      <td>0</td>\n",
       "      <td>150</td>\n",
       "      <td>0</td>\n",
       "      <td>27</td>\n",
       "      <td>24</td>\n",
       "      <td>28</td>\n",
       "      <td>26</td>\n",
       "      <td>27</td>\n",
       "      <td>30</td>\n",
       "      <td>1</td>\n",
       "    </tr>\n",
       "    <tr>\n",
       "      <th>760</th>\n",
       "      <td>2</td>\n",
       "      <td>4</td>\n",
       "      <td>4</td>\n",
       "      <td>8.0</td>\n",
       "      <td>22</td>\n",
       "      <td>0.25</td>\n",
       "      <td>20</td>\n",
       "      <td>0</td>\n",
       "      <td>0</td>\n",
       "      <td>0</td>\n",
       "      <td>0</td>\n",
       "      <td>13</td>\n",
       "      <td>6</td>\n",
       "      <td>16</td>\n",
       "      <td>3</td>\n",
       "      <td>6</td>\n",
       "      <td>5</td>\n",
       "      <td>0</td>\n",
       "    </tr>\n",
       "    <tr>\n",
       "      <th>761</th>\n",
       "      <td>3</td>\n",
       "      <td>9</td>\n",
       "      <td>3</td>\n",
       "      <td>18.0</td>\n",
       "      <td>304</td>\n",
       "      <td>23.00</td>\n",
       "      <td>30</td>\n",
       "      <td>0</td>\n",
       "      <td>0</td>\n",
       "      <td>0</td>\n",
       "      <td>0</td>\n",
       "      <td>22</td>\n",
       "      <td>15</td>\n",
       "      <td>18</td>\n",
       "      <td>20</td>\n",
       "      <td>19</td>\n",
       "      <td>24</td>\n",
       "      <td>0</td>\n",
       "    </tr>\n",
       "  </tbody>\n",
       "</table>\n",
       "<p>762 rows × 18 columns</p>\n",
       "</div>"
      ],
      "text/plain": [
       "     size  type  alignment    ac   hp     cr  speed  swim  climb  fly  burrow  \\\n",
       "0       2     0          0  12.0   13   0.25     20     0      0   50       0   \n",
       "1       2     1          1  12.0   84   9.00     30     0      0    0       0   \n",
       "2       3     2          2  17.0  135  10.00     10    40      0    0       0   \n",
       "3       4     3          3  15.0  137   9.00     40     0     40    0       0   \n",
       "4       2     4          4  21.0  285  23.00     30     0      0    0       0   \n",
       "..    ...   ...        ...   ...  ...    ...    ...   ...    ...  ...     ...   \n",
       "757     2    70          4  11.0   40   1.00     30     0      0    0       0   \n",
       "758     5     7          8  21.0  307  22.00     40    40      0    0       0   \n",
       "759     3    11          2  21.0  580  26.00     50     0      0  150       0   \n",
       "760     2     4          4   8.0   22   0.25     20     0      0    0       0   \n",
       "761     3     9          3  18.0  304  23.00     30     0      0    0       0   \n",
       "\n",
       "     strength  dex  con  intel  wis  cha  legendary  \n",
       "0          10   14   10     11   12   11          0  \n",
       "1           9   14   14     18   12   11          0  \n",
       "2          21    9   15     18   15   18          1  \n",
       "3          24   10   22      9   13    9          0  \n",
       "4          13   16   20     27   21   20          0  \n",
       "..        ...  ...  ...    ...  ...  ...        ...  \n",
       "757        11   12   11     13   12   14          0  \n",
       "758        30   10   30      2   21   18          0  \n",
       "759        27   24   28     26   27   30          1  \n",
       "760        13    6   16      3    6    5          0  \n",
       "761        22   15   18     20   19   24          0  \n",
       "\n",
       "[762 rows x 18 columns]"
      ]
     },
     "execution_count": 36,
     "metadata": {},
     "output_type": "execute_result"
    }
   ],
   "source": [
    "dnd"
   ]
  },
  {
   "cell_type": "markdown",
   "metadata": {},
   "source": [
    "Here's a visual for how many monsters are in each challenge rating class. Note that the distribution shows more lower-rated monsters than higher-rated ones."
   ]
  },
  {
   "cell_type": "code",
   "execution_count": 37,
   "metadata": {},
   "outputs": [
    {
     "data": {
      "text/plain": [
       "<AxesSubplot:title={'center':'Count of Challenge Ratings'}, xlabel='Challenge Ratings', ylabel='Count'>"
      ]
     },
     "execution_count": 37,
     "metadata": {},
     "output_type": "execute_result"
    },
    {
     "data": {
      "image/png": "[encoded data removed]",
      "text/plain": [
       "<Figure size 1008x576 with 1 Axes>"
      ]
     },
     "metadata": {
      "needs_background": "light"
     },
     "output_type": "display_data"
    }
   ],
   "source": [
    "ax = dnd.cr.value_counts().sort_index().plot(kind='bar', figsize=(14,8),title=\"Count of Challenge Ratings\")\n",
    "ax.set_xlabel(\"Challenge Ratings\")\n",
    "ax.set_ylabel(\"Count\")\n",
    "ax"
   ]
  },
  {
   "cell_type": "markdown",
   "metadata": {},
   "source": [
    "For our machine learning models we'll need to convert the features and targets to numpy arrays."
   ]
  },
  {
   "cell_type": "code",
   "execution_count": 38,
   "metadata": {},
   "outputs": [],
   "source": [
    "X = features.to_numpy()\n",
    "y = target.to_numpy()"
   ]
  },
  {
   "cell_type": "markdown",
   "metadata": {},
   "source": [
    "Since not all models can take real-numbered targets, we also create a shifted target vector that converts the fractional challenge ratings into the lowest-valued integers and shift the rest of the challenge ratings to accommodate them."
   ]
  },
  {
   "cell_type": "code",
   "execution_count": 39,
   "metadata": {},
   "outputs": [],
   "source": [
    "y_shift = []\n",
    "for i in y:\n",
    "    if i == .125:\n",
    "        y_shift.append(1)\n",
    "    elif i == .25:\n",
    "        y_shift.append(2)\n",
    "    elif i == .5:\n",
    "        y_shift.append(3)\n",
    "    else:\n",
    "        y_shift.append(i+3)"
   ]
  },
  {
   "cell_type": "markdown",
   "metadata": {},
   "source": [
    "In addition to using the whole dataset, we thought that it would be interesting to partition the dataset into different categories and test how much influence each category had. When examining the data, three main partitions stood out: general traits, mobility capabilities, and ability scores. To examine their individual impacts we created an array of modified observations with different combinations of these categories."
   ]
  },
  {
   "cell_type": "code",
   "execution_count": 40,
   "metadata": {},
   "outputs": [],
   "source": [
    "traits = [\"size\", \"type\", \"alignment\", \"legendary\"]\n",
    "mobility = [\"speed\", \"swim\", \"climb\", \"fly\", \"burrow\"]\n",
    "abilityscore = [\"ac\", \"hp\",\"strength\", \"dex\", \"con\", \"intel\", \"wis\", \"cha\"]\n",
    "\n",
    "names = [\"No traits\", \"No mobility\", \"No ability score\", \"Only traits\", \"Only mobility\", \"Only ability score\"]\n",
    "X_mod = [features.drop(columns=traits)]\n",
    "X_mod.append(features.drop(columns=mobility))\n",
    "X_mod.append(features.drop(columns=abilityscore))\n",
    "X_mod.append(features.drop(columns=mobility+abilityscore))\n",
    "X_mod.append(features.drop(columns=abilityscore+traits))\n",
    "X_mod.append(features.drop(columns=traits+mobility))"
   ]
  },
  {
   "cell_type": "markdown",
   "metadata": {},
   "source": [
    "# Testing Tools"
   ]
  },
  {
   "cell_type": "markdown",
   "metadata": {},
   "source": [
    "To run our experiments, we created a helper function that takes a model, the observations, target values, and a number of trials to run. This allowed us to easily run experiments per model and find an average score for them."
   ]
  },
  {
   "cell_type": "code",
   "execution_count": 41,
   "metadata": {},
   "outputs": [],
   "source": [
    "def test_model(model, X, y, trials):\n",
    "    test = []\n",
    "    train = []\n",
    "    for i in range(trials):\n",
    "        X_train, X_test, y_train, y_test = train_test_split(X, y)    \n",
    "        model.fit(X_train, y_train)\n",
    "        train.append(model.score(X_train, y_train))\n",
    "        test.append(model.score(X_test, y_test))\n",
    "    return (np.mean(train), np.mean(test))\n",
    "\n",
    "# wrapper for nice printing, discarding the return\n",
    "def print_test_model(model, X, y, trials):\n",
    "    print_test_model2(model, X, y, trials)\n",
    "\n",
    "# wrapper for nice printing, with return value\n",
    "def print_test_model2(model, X, y, trials):\n",
    "    train_mean, test_mean = test_model(model, X, y, trials)\n",
    "    print(\"Accuracy on training set: {:.5f}\".format(train_mean))\n",
    "    print(\"Accuracy on test set: {:.5f}\\n\".format(test_mean))\n",
    "    return (train_mean, test_mean)"
   ]
  },
  {
   "cell_type": "markdown",
   "metadata": {},
   "source": [
    "We also created some helper functions to test how the model performs when using the various feature partitions and represent those results graphically. This was mostly to see how effective our humanly-judged partitions would work."
   ]
  },
  {
   "cell_type": "code",
   "execution_count": 42,
   "metadata": {},
   "outputs": [],
   "source": [
    "def test_model_mod(model, names, X, y, trials):\n",
    "    for i in range(len(names)):\n",
    "        print(names[i])\n",
    "        print_test_model(model, X[i], y, trials)\n",
    "        \n",
    "def graph_model_mod(model, names, X, y, trials):\n",
    "    acc_test = []\n",
    "    acc_train = []\n",
    "    for i in range(len(names)):\n",
    "        train, test = test_model(model, X[i], y, trials)\n",
    "        print(names[i])\n",
    "        print(\"Accuracy on training set: {:.5f}\".format(train))\n",
    "        print(\"Accuracy on test set: {:.5f}\\n\".format(test))\n",
    "        acc_test.append(test)\n",
    "        acc_train.append(train)\n",
    "    index = np.arange(len(names))\n",
    "    plt.figure(figsize=(20, 10))\n",
    "    plt.bar(index - .2, acc_train, color = 'blue', width=.4, label=\"Train\")\n",
    "    plt.bar(index+ .2, acc_test, color = 'orange', width=.4, label=\"Test\")\n",
    "    plt.xticks(index, names)\n",
    "    plt.yticks([i*.05 for i in range(20)])\n",
    "    plt.legend()\n",
    "    plt.show()"
   ]
  },
  {
   "cell_type": "markdown",
   "metadata": {},
   "source": [
    "Lastly, we created functions to determine which targets the model missed. Instead of running multiple trials, these functions run a model just once. Note that the find_margin function is intended to give a picture of how inaccurate the incorrect predictions are as opposed to how inaccurate the model as a whole is, making it slightly different from a loss function."
   ]
  },
  {
   "cell_type": "code",
   "execution_count": 43,
   "metadata": {},
   "outputs": [],
   "source": [
    "# Returns an array of (predict, true) pairs for all misclassifications\n",
    "def find_missed(model, X, y):\n",
    "    y_pred = model.predict(X)\n",
    "    return np.array([[y_pred[i], y[i]] for i in range(len(y)) if y_pred[i] != y[i] ])\n",
    "        \n",
    "def test_missed_model(model, X, y):\n",
    "    X_train, X_test, y_train, y_test = train_test_split(X, y)    \n",
    "    model.fit(X_train, y_train)\n",
    "    train = model.score(X_train, y_train)\n",
    "    test = model.score(X_test, y_test)\n",
    "    \n",
    "    train_missed = find_missed(model, X_train, y_train)\n",
    "    test_missed = find_missed(model, X_test, y_test)\n",
    "    \n",
    "    return (train, train_missed, test, test_missed)\n",
    "\n",
    "# Finds the average margin of error for a model\n",
    "def find_margin(missed):\n",
    "    margin = 0\n",
    "    for pred, true in missed:\n",
    "        margin += abs(pred-true)\n",
    "    return margin/len(missed)\n",
    "\n",
    "# Helper print functions #\n",
    "\n",
    "# Print first n incorrect predictions\n",
    "def print_missed(missed, n):\n",
    "    print(\"Number of incorrect predictions: {}\".format(len(missed)))\n",
    "    print(\"Average margin of error: {}\".format(find_margin(missed)))\n",
    "    for pred, true in missed[:n]:\n",
    "        print(\"Predicted {:.5f}, was {}\".format(pred, true))\n",
    "    print()\n",
    "    \n",
    "def print_test_missed_model(model, X, y, n):\n",
    "    train, train_missed, test, test_missed = test_missed_model(model, X, y)\n",
    "    print(\"Accuracy on training set: {:.5f}\".format(train))\n",
    "    print_missed(train_missed, n)\n",
    "    print(\"Accuracy on test set: {:.5f}\".format(test))\n",
    "    print_missed(test_missed, n)"
   ]
  },
  {
   "cell_type": "markdown",
   "metadata": {},
   "source": [
    "For each model family, we start by running the test_model function on all the features to create a baseline for expected accuracy. Next, we run the missed functions to get an idea of what the model predicts incorrectly. After that, we experiment with different model parameters as applicable. Finally, we run the model against the different feature partitions to see if those have any influence."
   ]
  },
  {
   "cell_type": "markdown",
   "metadata": {},
   "source": [
    "# KNN Classification and Regression"
   ]
  },
  {
   "cell_type": "markdown",
   "metadata": {},
   "source": [
    "As a baseline, we first started by trying to use knn classification and regression schemes. Let's start with trying out classification. Since knn classification cannot use continuous target values, we had to use the shifted targets."
   ]
  },
  {
   "cell_type": "code",
   "execution_count": 44,
   "metadata": {
    "scrolled": true
   },
   "outputs": [
    {
     "name": "stdout",
     "output_type": "stream",
     "text": [
      "Accuracy on training set: 0.47743\n",
      "Accuracy on test set: 0.26555\n",
      "\n"
     ]
    }
   ],
   "source": [
    "knn = KNeighborsClassifier(5)\n",
    "print_test_model(knn, X, y_shift, 100)"
   ]
  },
  {
   "cell_type": "markdown",
   "metadata": {},
   "source": [
    "Ouch. Not good. Let's take a look at some of the misclassifications."
   ]
  },
  {
   "cell_type": "code",
   "execution_count": 45,
   "metadata": {},
   "outputs": [
    {
     "name": "stdout",
     "output_type": "stream",
     "text": [
      "Accuracy on training set: 0.48687\n",
      "Number of incorrect predictions: 293\n",
      "Average margin of error: 2.6109215017064846\n",
      "Predicted 8.00000, was 11.0\n",
      "Predicted 5.00000, was 2.0\n",
      "Predicted 11.00000, was 8.0\n",
      "Predicted 23.00000, was 22.0\n",
      "Predicted 5.00000, was 4.0\n",
      "Predicted 3.00000, was 4.0\n",
      "Predicted 12.00000, was 14.0\n",
      "Predicted 26.00000, was 29.0\n",
      "Predicted 12.00000, was 8.0\n",
      "Predicted 9.00000, was 15.0\n",
      "\n",
      "Accuracy on test set: 0.25131\n",
      "Number of incorrect predictions: 143\n",
      "Average margin of error: 2.5874125874125875\n",
      "Predicted 3.00000, was 6.0\n",
      "Predicted 5.00000, was 3.0\n",
      "Predicted 4.00000, was 6.0\n",
      "Predicted 7.00000, was 6.0\n",
      "Predicted 24.00000, was 25.0\n",
      "Predicted 10.00000, was 16.0\n",
      "Predicted 22.00000, was 23.0\n",
      "Predicted 3.00000, was 1.0\n",
      "Predicted 8.00000, was 10.0\n",
      "Predicted 13.00000, was 17.0\n",
      "\n"
     ]
    }
   ],
   "source": [
    "knn_reg = KNeighborsClassifier(5)\n",
    "print_test_missed_model(knn, X, y_shift, 10)"
   ]
  },
  {
   "cell_type": "markdown",
   "metadata": {},
   "source": [
    "Pretty significant number of misclassifications and a high margin of error. Let's see how regression fares."
   ]
  },
  {
   "cell_type": "code",
   "execution_count": 46,
   "metadata": {},
   "outputs": [
    {
     "name": "stdout",
     "output_type": "stream",
     "text": [
      "Accuracy on training set: 0.93170\n",
      "Accuracy on test set: 0.89380\n",
      "\n"
     ]
    }
   ],
   "source": [
    "knn_reg = KNeighborsRegressor(5)\n",
    "print_test_model(knn_reg, X, y, 100)"
   ]
  },
  {
   "cell_type": "markdown",
   "metadata": {},
   "source": [
    "Already that looks much better. Let's see what the incorrect predictions are like this time."
   ]
  },
  {
   "cell_type": "code",
   "execution_count": 47,
   "metadata": {},
   "outputs": [
    {
     "name": "stdout",
     "output_type": "stream",
     "text": [
      "Accuracy on training set: 0.92833\n",
      "Number of incorrect predictions: 550\n",
      "Average margin of error: 1.0784090909090904\n",
      "Predicted 0.42500, was 0.25\n",
      "Predicted 1.00000, was 0.5\n",
      "Predicted 13.60000, was 13.0\n",
      "Predicted 0.10000, was 0.25\n",
      "Predicted 16.20000, was 21.0\n",
      "Predicted 1.05000, was 2.0\n",
      "Predicted 2.80000, was 4.0\n",
      "Predicted 3.60000, was 4.0\n",
      "Predicted 11.60000, was 16.0\n",
      "Predicted 14.60000, was 12.0\n",
      "\n",
      "Accuracy on test set: 0.91559\n",
      "Number of incorrect predictions: 185\n",
      "Average margin of error: 1.2094594594594597\n",
      "Predicted 0.30000, was 0.5\n",
      "Predicted 1.50000, was 0.25\n",
      "Predicted 1.15000, was 2.0\n",
      "Predicted 0.45000, was 0.5\n",
      "Predicted 10.40000, was 8.0\n",
      "Predicted 0.15000, was 0.125\n",
      "Predicted 12.00000, was 16.0\n",
      "Predicted 15.60000, was 17.0\n",
      "Predicted 2.60000, was 2.0\n",
      "Predicted 13.80000, was 15.0\n",
      "\n"
     ]
    }
   ],
   "source": [
    "knn_reg = KNeighborsRegressor(5)\n",
    "print_test_missed_model(knn_reg, X, y, 10)"
   ]
  },
  {
   "cell_type": "markdown",
   "metadata": {},
   "source": [
    "Note that we have many more incorrect predictions, but the margin of error for misclassifications has decreased by half. This reveals why classification schemes are less appropriate for our task. Classification actually forces more correct predictions due to being non-continuous by nature, but the majority of misclassifications are too distant to be \"rounded\" to correctness. Regression on the other hand doesn't look for exactness but rather closeness, and since the incorrect predictions are on average pretty close the model still scores pretty highly.\n",
    "\n",
    "Since regression is more appropriate for determining challenge rating, we choose to focus on regression model families for the rest of our experiments. But first, let's see if we can improve the knn results by changing the number of neighbors."
   ]
  },
  {
   "cell_type": "code",
   "execution_count": 48,
   "metadata": {},
   "outputs": [
    {
     "data": {
      "image/png": "[encoded data removed]",
      "text/plain": [
       "<Figure size 432x288 with 1 Axes>"
      ]
     },
     "metadata": {
      "needs_background": "light"
     },
     "output_type": "display_data"
    },
    {
     "name": "stdout",
     "output_type": "stream",
     "text": [
      "Best pos: 10\n",
      "Best test mean: 0.903023373906491\n"
     ]
    }
   ],
   "source": [
    "test_max = 0\n",
    "best_pos = 0\n",
    "\n",
    "ave_test = []\n",
    "ave_train = []\n",
    "neighbors = []\n",
    "\n",
    "for i in range(1,21):\n",
    "    knn_reg = KNeighborsRegressor(i)\n",
    "    train_mean, test_mean = test_model(knn_reg, X, y, 20)\n",
    "    ave_test.append(test_mean)\n",
    "    ave_train.append(train_mean)\n",
    "    neighbors.append(i)\n",
    "    if (test_mean > test_max):\n",
    "        test_max = test_mean\n",
    "        best_pos = i\n",
    "\n",
    "plt.plot(neighbors, ave_test, label=\"Test\")\n",
    "plt.plot(neighbors, ave_train, label=\"Train\")\n",
    "plt.title(\"Comparing Different # of Neighbors\")\n",
    "plt.xlabel(\"# Neighbors\")\n",
    "plt.ylabel(\"Accuracy\")\n",
    "plt.xticks([i for i in range(1,21)])\n",
    "plt.legend()\n",
    "plt.show()\n",
    "\n",
    "print(\"Best pos: {}\".format(best_pos))\n",
    "print(\"Best test mean: {}\".format(test_mean))"
   ]
  },
  {
   "cell_type": "markdown",
   "metadata": {},
   "source": [
    "Repeating this test indicated that the best results typically occur between 12 and 18 neighbors. Since the accuracy was pretty consistent across tests, we'll split the difference and use 15. Now let's test this against the different partitions."
   ]
  },
  {
   "cell_type": "code",
   "execution_count": 49,
   "metadata": {},
   "outputs": [
    {
     "name": "stdout",
     "output_type": "stream",
     "text": [
      "No traits\n",
      "Accuracy on training set: 0.91885\n",
      "Accuracy on test set: 0.90377\n",
      "\n",
      "No mobility\n",
      "Accuracy on training set: 0.92036\n",
      "Accuracy on test set: 0.90471\n",
      "\n",
      "No ability score\n",
      "Accuracy on training set: 0.32864\n",
      "Accuracy on test set: 0.21980\n",
      "\n",
      "Only traits\n",
      "Accuracy on training set: 0.46559\n",
      "Accuracy on test set: 0.38382\n",
      "\n",
      "Only mobility\n",
      "Accuracy on training set: 0.23290\n",
      "Accuracy on test set: 0.17255\n",
      "\n",
      "Only ability score\n",
      "Accuracy on training set: 0.92252\n",
      "Accuracy on test set: 0.90973\n",
      "\n"
     ]
    },
    {
     "data": {
      "image/png": "[encoded data removed]",
      "text/plain": [
       "<Figure size 1440x720 with 1 Axes>"
      ]
     },
     "metadata": {
      "needs_background": "light"
     },
     "output_type": "display_data"
    }
   ],
   "source": [
    "knn_reg = KNeighborsRegressor(15)\n",
    "graph_model_mod(knn_reg, names, X_mod, y, 100)"
   ]
  },
  {
   "cell_type": "markdown",
   "metadata": {},
   "source": [
    "Unsurprisingly, ability scores are the main contributing factor towards predicting the challenge rating."
   ]
  },
  {
   "cell_type": "markdown",
   "metadata": {},
   "source": [
    "# Linear Regression"
   ]
  },
  {
   "cell_type": "markdown",
   "metadata": {},
   "source": [
    "Our next set of tests uses the linear regression model. "
   ]
  },
  {
   "cell_type": "code",
   "execution_count": 50,
   "metadata": {},
   "outputs": [
    {
     "name": "stdout",
     "output_type": "stream",
     "text": [
      "Accuracy on training set: 0.90486\n",
      "Accuracy on test set: 0.89345\n",
      "\n"
     ]
    }
   ],
   "source": [
    "lr = LinearRegression()\n",
    "print_test_model(lr, X, y, 100)"
   ]
  },
  {
   "cell_type": "markdown",
   "metadata": {},
   "source": [
    "This ran much faster compared to knn regression, but had a slight hit to accuracy. Now to check the missed predictions:"
   ]
  },
  {
   "cell_type": "code",
   "execution_count": 51,
   "metadata": {},
   "outputs": [
    {
     "name": "stdout",
     "output_type": "stream",
     "text": [
      "Accuracy on training set: 0.89893\n",
      "Number of incorrect predictions: 571\n",
      "Average margin of error: 1.3919344428484561\n",
      "Predicted 6.12070, was 8.0\n",
      "Predicted 0.45002, was 0.125\n",
      "Predicted 2.34255, was 2.0\n",
      "Predicted 5.86576, was 7.0\n",
      "Predicted 3.98808, was 2.0\n",
      "Predicted 0.54864, was 0.5\n",
      "Predicted 19.01350, was 21.0\n",
      "Predicted 3.16730, was 3.0\n",
      "Predicted 1.35656, was 2.0\n",
      "Predicted 4.31948, was 5.0\n",
      "\n",
      "Accuracy on test set: 0.91465\n",
      "Number of incorrect predictions: 191\n",
      "Average margin of error: 1.3196434726248483\n",
      "Predicted 2.56055, was 0.0\n",
      "Predicted 1.57784, was 4.0\n",
      "Predicted 0.35026, was 0.0\n",
      "Predicted 6.61952, was 7.0\n",
      "Predicted 6.21211, was 6.0\n",
      "Predicted 3.20410, was 3.0\n",
      "Predicted 13.47977, was 17.0\n",
      "Predicted 14.88806, was 21.0\n",
      "Predicted 24.13398, was 26.0\n",
      "Predicted 5.17169, was 7.0\n",
      "\n"
     ]
    }
   ],
   "source": [
    "lr = LinearRegression()\n",
    "print_test_missed_model(lr, X, y, 10)"
   ]
  },
  {
   "cell_type": "markdown",
   "metadata": {},
   "source": [
    "The main observation here is that knn regression had fewer incorrect predictions compared to linear regression. This is likely due to knn regression having less decimal precision, allowing for more of its predictions to fall on exact target values than linear regression.\n",
    "\n",
    "And now for the modified features:"
   ]
  },
  {
   "cell_type": "code",
   "execution_count": 52,
   "metadata": {},
   "outputs": [
    {
     "name": "stdout",
     "output_type": "stream",
     "text": [
      "No traits\n",
      "Accuracy on training set: 0.90324\n",
      "Accuracy on test set: 0.89427\n",
      "\n",
      "No mobility\n",
      "Accuracy on training set: 0.90059\n",
      "Accuracy on test set: 0.88915\n",
      "\n",
      "No ability score\n",
      "Accuracy on training set: 0.45433\n",
      "Accuracy on test set: 0.43231\n",
      "\n",
      "Only traits\n",
      "Accuracy on training set: 0.42843\n",
      "Accuracy on test set: 0.42057\n",
      "\n",
      "Only mobility\n",
      "Accuracy on training set: 0.19869\n",
      "Accuracy on test set: 0.18255\n",
      "\n",
      "Only ability score\n",
      "Accuracy on training set: 0.90011\n",
      "Accuracy on test set: 0.88990\n",
      "\n"
     ]
    },
    {
     "data": {
      "image/png": "[encoded data removed]",
      "text/plain": [
       "<Figure size 1440x720 with 1 Axes>"
      ]
     },
     "metadata": {
      "needs_background": "light"
     },
     "output_type": "display_data"
    }
   ],
   "source": [
    "lr = LinearRegression()\n",
    "graph_model_mod(lr, names, X_mod, y, 100)"
   ]
  },
  {
   "cell_type": "markdown",
   "metadata": {},
   "source": [
    "The main difference here is that the \"no ability score\" case scored decently higher compared to knn. Running these in sequence also highlighted the performance discrepancy between the two models, with linear regression running much faster."
   ]
  },
  {
   "cell_type": "markdown",
   "metadata": {},
   "source": [
    "# MLP Regression"
   ]
  },
  {
   "cell_type": "markdown",
   "metadata": {},
   "source": [
    "We now move on to the multilevel perception model. Before we run the tests, we're going to ignore warnings. The MLPRegressor will warn us whenever the model doesn't converge, which gets really distracting. Later we'll adjust the maximum number of iterations for the model, which can also eliminate the convergence warnings, but for presentation purposes we'll create the filter beforehand."
   ]
  },
  {
   "cell_type": "code",
   "execution_count": 53,
   "metadata": {},
   "outputs": [],
   "source": [
    "import warnings\n",
    "warnings.filterwarnings('ignore')"
   ]
  },
  {
   "cell_type": "markdown",
   "metadata": {},
   "source": [
    "Now to actually test the MLP. This was the slowest to run of them all, so we had to reduce the number of trials to get results in a reasonable amount of time. As a consequence there was some more variance compared to when we ran trials on the other models, but MLPs still had the highest accuracy overall."
   ]
  },
  {
   "cell_type": "code",
   "execution_count": 54,
   "metadata": {},
   "outputs": [
    {
     "name": "stdout",
     "output_type": "stream",
     "text": [
      "Accuracy on training set: 0.94903\n",
      "Accuracy on test set: 0.92273\n",
      "\n"
     ]
    }
   ],
   "source": [
    "mlp = MLPRegressor()\n",
    "print_test_model(mlp, X, y, 20)"
   ]
  },
  {
   "cell_type": "markdown",
   "metadata": {},
   "source": [
    "It's a slight improvement over the other models. Let's see what it gets wrong..."
   ]
  },
  {
   "cell_type": "code",
   "execution_count": 55,
   "metadata": {},
   "outputs": [
    {
     "name": "stdout",
     "output_type": "stream",
     "text": [
      "Accuracy on training set: 0.95187\n",
      "Number of incorrect predictions: 571\n",
      "Average margin of error: 0.9940559635585778\n",
      "Predicted 2.19891, was 2.0\n",
      "Predicted 2.80881, was 2.0\n",
      "Predicted 4.32781, was 5.0\n",
      "Predicted 24.66568, was 24.0\n",
      "Predicted 4.59842, was 3.0\n",
      "Predicted 13.34775, was 14.0\n",
      "Predicted 2.58688, was 3.0\n",
      "Predicted 6.90749, was 6.0\n",
      "Predicted 2.95321, was 4.0\n",
      "Predicted 0.36250, was 1.0\n",
      "\n",
      "Accuracy on test set: 0.91338\n",
      "Number of incorrect predictions: 191\n",
      "Average margin of error: 1.2967483980482157\n",
      "Predicted 9.16060, was 5.0\n",
      "Predicted 17.65259, was 16.0\n",
      "Predicted 7.54698, was 9.0\n",
      "Predicted 1.21513, was 1.0\n",
      "Predicted 4.73294, was 3.0\n",
      "Predicted 10.31386, was 10.0\n",
      "Predicted 4.06822, was 5.0\n",
      "Predicted 0.36572, was 0.5\n",
      "Predicted 3.73243, was 3.0\n",
      "Predicted -0.08390, was 1.0\n",
      "\n"
     ]
    }
   ],
   "source": [
    "mlp = MLPRegressor()\n",
    "print_test_missed_model(mlp, X, y, 10)"
   ]
  },
  {
   "cell_type": "markdown",
   "metadata": {},
   "source": [
    "We can see that the incorrect predictions are closer than the other two models. Much like linear regression there's almost no correct predictions, but the incorrect predictions are closer overall and allow for the model to score more highly.\n",
    "\n",
    "It's a good baseline overall, but let's see if we can improve it by fiddling with some parameters. Many are solver-specific, but the following are universal parameters that we can adjust. First, the number of hidden layers generally improved the training accuracy, but had a slight downward trend for test accuracy."
   ]
  },
  {
   "cell_type": "code",
   "execution_count": 56,
   "metadata": {},
   "outputs": [
    {
     "name": "stdout",
     "output_type": "stream",
     "text": [
      "Hidden layers: [100]\n",
      "Accuracy on training set: 0.94959\n",
      "Accuracy on test set: 0.91298\n",
      "\n",
      "Hidden layers: [100, 100]\n",
      "Accuracy on training set: 0.96017\n",
      "Accuracy on test set: 0.90943\n",
      "\n",
      "Hidden layers: [100, 100, 100]\n",
      "Accuracy on training set: 0.96654\n",
      "Accuracy on test set: 0.91019\n",
      "\n",
      "Hidden layers: [100, 100, 100, 100]\n",
      "Accuracy on training set: 0.96909\n",
      "Accuracy on test set: 0.90726\n",
      "\n",
      "Hidden layers: [100, 100, 100, 100, 100]\n",
      "Accuracy on training set: 0.96965\n",
      "Accuracy on test set: 0.91419\n",
      "\n"
     ]
    },
    {
     "data": {
      "image/png": "[encoded data removed]",
      "text/plain": [
       "<Figure size 432x288 with 1 Axes>"
      ]
     },
     "metadata": {
      "needs_background": "light"
     },
     "output_type": "display_data"
    }
   ],
   "source": [
    "# Default is [100]\n",
    "n = 6\n",
    "hidden_layer_count = [[100]*i for i in range(1, n)]\n",
    "\n",
    "ave_test = []\n",
    "ave_train = []\n",
    "\n",
    "for s in hidden_layer_count:\n",
    "    print(\"Hidden layers: {}\".format(s))\n",
    "    mlp = MLPRegressor(hidden_layer_sizes=s)\n",
    "    train, test = print_test_model2(mlp, X, y, 20)\n",
    "    ave_test.append(test)\n",
    "    ave_train.append(train)\n",
    "\n",
    "plt.plot([i for i in range(1, n)], ave_test, label=\"Test\")\n",
    "plt.plot([i for i in range(1, n)], ave_train, label=\"Train\")\n",
    "plt.title(\"Comparing Different # of Layers\")\n",
    "plt.xlabel(\"# of Layers\")\n",
    "plt.ylabel(\"Accuracy\")\n",
    "plt.xticks([i for i in range(1, n)])\n",
    "plt.legend()\n",
    "plt.show()"
   ]
  },
  {
   "cell_type": "markdown",
   "metadata": {},
   "source": [
    "Increasing the number of hidden units in a layer had more variance, but there was still a general upwards trend for training accuracy. Test accuracy was somewhat inconsistent but seemed to improve with larger layers."
   ]
  },
  {
   "cell_type": "code",
   "execution_count": 57,
   "metadata": {},
   "outputs": [
    {
     "name": "stdout",
     "output_type": "stream",
     "text": [
      "Hidden layer: [100]\n",
      "Accuracy on training set: 0.94997\n",
      "Accuracy on test set: 0.91169\n",
      "\n",
      "Hidden layer: [200]\n",
      "Accuracy on training set: 0.95498\n",
      "Accuracy on test set: 0.92368\n",
      "\n",
      "Hidden layer: [300]\n",
      "Accuracy on training set: 0.96013\n",
      "Accuracy on test set: 0.92416\n",
      "\n",
      "Hidden layer: [400]\n",
      "Accuracy on training set: 0.96165\n",
      "Accuracy on test set: 0.92307\n",
      "\n",
      "Hidden layer: [500]\n",
      "Accuracy on training set: 0.95997\n",
      "Accuracy on test set: 0.92528\n",
      "\n",
      "Hidden layer: [600]\n",
      "Accuracy on training set: 0.96099\n",
      "Accuracy on test set: 0.92667\n",
      "\n",
      "Hidden layer: [700]\n",
      "Accuracy on training set: 0.95953\n",
      "Accuracy on test set: 0.92767\n",
      "\n",
      "Hidden layer: [800]\n",
      "Accuracy on training set: 0.95747\n",
      "Accuracy on test set: 0.92018\n",
      "\n",
      "Hidden layer: [900]\n",
      "Accuracy on training set: 0.96331\n",
      "Accuracy on test set: 0.92211\n",
      "\n",
      "Hidden layer: [1000]\n",
      "Accuracy on training set: 0.96393\n",
      "Accuracy on test set: 0.92660\n",
      "\n"
     ]
    },
    {
     "data": {
      "image/png": "[encoded data removed]",
      "text/plain": [
       "<Figure size 432x288 with 1 Axes>"
      ]
     },
     "metadata": {
      "needs_background": "light"
     },
     "output_type": "display_data"
    }
   ],
   "source": [
    "# Default is [100]\n",
    "n = 11\n",
    "hidden_layer_sizes = [[100*i] for i in range(1, n)]\n",
    "\n",
    "ave_test = []\n",
    "ave_train = []\n",
    "\n",
    "for s in hidden_layer_sizes:\n",
    "    print(\"Hidden layer: {}\".format(s))\n",
    "    mlp = MLPRegressor(hidden_layer_sizes=s)\n",
    "    train, test = print_test_model2(mlp, X, y, 20)\n",
    "    ave_test.append(test)\n",
    "    ave_train.append(train)\n",
    "\n",
    "plt.plot([i for i in range(1, n)], ave_test, label=\"Test\")\n",
    "plt.plot([i for i in range(1, n)], ave_train, label=\"Train\")\n",
    "plt.title(\"Comparing Different Layer Sizes\")\n",
    "plt.xlabel(\"Layer Size\")\n",
    "plt.ylabel(\"Accuracy\")\n",
    "plt.xticks([i for i in range(1, n)])\n",
    "plt.legend()\n",
    "plt.show()"
   ]
  },
  {
   "cell_type": "markdown",
   "metadata": {},
   "source": [
    "The default relu activation function works the best."
   ]
  },
  {
   "cell_type": "code",
   "execution_count": 58,
   "metadata": {},
   "outputs": [
    {
     "name": "stdout",
     "output_type": "stream",
     "text": [
      "Activation: relu\n",
      "Accuracy on training set: 0.94936\n",
      "Accuracy on test set: 0.92178\n",
      "\n",
      "Activation: identity\n",
      "Accuracy on training set: 0.88890\n",
      "Accuracy on test set: 0.87151\n",
      "\n",
      "Activation: logistic\n",
      "Accuracy on training set: 0.90286\n",
      "Accuracy on test set: 0.86521\n",
      "\n",
      "Activation: tanh\n",
      "Accuracy on training set: 0.93037\n",
      "Accuracy on test set: 0.87082\n",
      "\n"
     ]
    }
   ],
   "source": [
    "# Default is relu\n",
    "activation = ['relu', 'identity', 'logistic', 'tanh']\n",
    "for a in activation:\n",
    "    print(\"Activation: \" + a)\n",
    "    mlp = MLPRegressor(activation=a)\n",
    "    print_test_model(mlp, X, y, 20)"
   ]
  },
  {
   "cell_type": "markdown",
   "metadata": {},
   "source": [
    "The default adam solver has the best test accuracy, but lbfgs had better training accuracy. The sgd solver doesn't work at all though."
   ]
  },
  {
   "cell_type": "code",
   "execution_count": 59,
   "metadata": {},
   "outputs": [
    {
     "name": "stdout",
     "output_type": "stream",
     "text": [
      "Solver: adam\n",
      "Accuracy on training set: 0.94959\n",
      "Accuracy on test set: 0.91537\n",
      "\n",
      "Solver: lbfgs\n",
      "Accuracy on training set: 0.95953\n",
      "Accuracy on test set: 0.91238\n",
      "\n",
      "Solver: sgd\n",
      "Accuracy on training set: -14.15155\n",
      "Accuracy on test set: -13.27592\n",
      "\n"
     ]
    }
   ],
   "source": [
    "# Default is adam\n",
    "solvers = ['adam', 'lbfgs', 'sgd']\n",
    "for s in solvers:\n",
    "    print(\"Solver: \" + s)\n",
    "    mlp = MLPRegressor(solver=s)\n",
    "    print_test_model(mlp, X, y, 20)"
   ]
  },
  {
   "cell_type": "markdown",
   "metadata": {},
   "source": [
    "Adjusting the alpha had some fluxuations but didn't result in any significant improvement. Setting alpha too high did cause a dropoff in accuracy though."
   ]
  },
  {
   "cell_type": "code",
   "execution_count": 60,
   "metadata": {},
   "outputs": [
    {
     "name": "stdout",
     "output_type": "stream",
     "text": [
      "Alpha: 0.0001\n",
      "Accuracy on training set: 0.94865\n",
      "Accuracy on test set: 0.91759\n",
      "\n",
      "Alpha: 0.001\n",
      "Accuracy on training set: 0.94922\n",
      "Accuracy on test set: 0.92185\n",
      "\n",
      "Alpha: 0.01\n",
      "Accuracy on training set: 0.94992\n",
      "Accuracy on test set: 0.91468\n",
      "\n",
      "Alpha: 0.1\n",
      "Accuracy on training set: 0.94814\n",
      "Accuracy on test set: 0.91889\n",
      "\n",
      "Alpha: 1.0\n",
      "Accuracy on training set: 0.94981\n",
      "Accuracy on test set: 0.91409\n",
      "\n",
      "Alpha: 10.0\n",
      "Accuracy on training set: 0.95028\n",
      "Accuracy on test set: 0.92057\n",
      "\n",
      "Alpha: 100.0\n",
      "Accuracy on training set: 0.94269\n",
      "Accuracy on test set: 0.91760\n",
      "\n",
      "Alpha: 1000.0\n",
      "Accuracy on training set: 0.91539\n",
      "Accuracy on test set: 0.90864\n",
      "\n"
     ]
    },
    {
     "data": {
      "image/png": "[encoded data removed]",
      "text/plain": [
       "<Figure size 432x288 with 1 Axes>"
      ]
     },
     "metadata": {
      "needs_background": "light"
     },
     "output_type": "display_data"
    }
   ],
   "source": [
    "# Default is 0.0001\n",
    "n = 8\n",
    "alphas = [0.0001 * (10**i) for i in range(n)]\n",
    "\n",
    "ave_test = []\n",
    "ave_train = []\n",
    "\n",
    "for a in alphas:\n",
    "    print(\"Alpha: {}\".format(a))\n",
    "    mlp = MLPRegressor(alpha=a)\n",
    "    train, test = print_test_model2(mlp, X, y, 20)\n",
    "    ave_test.append(test)\n",
    "    ave_train.append(train)\n",
    "\n",
    "plt.plot([i for i in range(n)], ave_test, label=\"Test\")\n",
    "plt.plot([i for i in range(n)], ave_train, label=\"Train\")\n",
    "plt.title(\"Comparing Different Alphas\")\n",
    "plt.xlabel(\"# of Layers\")\n",
    "plt.ylabel(\"Accuracy\")\n",
    "plt.xticks([i for i in range(n)], alphas)\n",
    "plt.legend()\n",
    "plt.show()"
   ]
  },
  {
   "cell_type": "markdown",
   "metadata": {},
   "source": [
    "Lastly, increasing the iteration count to allow for convergence trended towards higher overall accuracy, though this seems to be more of a question of consistency than actual improvement."
   ]
  },
  {
   "cell_type": "code",
   "execution_count": 61,
   "metadata": {},
   "outputs": [
    {
     "name": "stdout",
     "output_type": "stream",
     "text": [
      "count: 200\n",
      "Accuracy on training set: 0.94722\n",
      "Accuracy on test set: 0.92082\n",
      "\n",
      "count: 400\n",
      "Accuracy on training set: 0.95830\n",
      "Accuracy on test set: 0.92377\n",
      "\n",
      "count: 600\n",
      "Accuracy on training set: 0.95990\n",
      "Accuracy on test set: 0.91809\n",
      "\n",
      "count: 800\n",
      "Accuracy on training set: 0.96177\n",
      "Accuracy on test set: 0.92065\n",
      "\n",
      "count: 1000\n",
      "Accuracy on training set: 0.95954\n",
      "Accuracy on test set: 0.91945\n",
      "\n"
     ]
    },
    {
     "data": {
      "image/png": "[encoded data removed]",
      "text/plain": [
       "<Figure size 432x288 with 1 Axes>"
      ]
     },
     "metadata": {
      "needs_background": "light"
     },
     "output_type": "display_data"
    }
   ],
   "source": [
    "# Default is 200\n",
    "n = 6\n",
    "count = [200 * i for i in range(1, n)]\n",
    "\n",
    "ave_test = []\n",
    "ave_train = []\n",
    "\n",
    "for c in count:\n",
    "    print(\"count: {}\".format(c))\n",
    "    mlp = MLPRegressor(max_iter=c)\n",
    "    train, test = print_test_model2(mlp, X, y, 20)\n",
    "    ave_test.append(test)\n",
    "    ave_train.append(train)\n",
    "\n",
    "plt.plot([i for i in range(1, n)], ave_test, label=\"Test\")\n",
    "plt.plot([i for i in range(1, n)], ave_train, label=\"Train\")\n",
    "plt.title(\"Comparing Max Iterations\")\n",
    "plt.xlabel(\"# of Layers\")\n",
    "plt.ylabel(\"Accuracy\")\n",
    "plt.xticks([i for i in range(1, n)], count)\n",
    "plt.legend()\n",
    "plt.show()"
   ]
  },
  {
   "cell_type": "markdown",
   "metadata": {},
   "source": [
    "As a whole, it looks like changing individual parameters can only improve accuracy by around 1% at most. While we could combine and fine-tune the parameters to eek out more overall accuracy, it seems unlikely that it'll improve by much individual factors weren't substantial. The most likely change would be the amount of time it takes to process.\n",
    "\n",
    "Let's return to the default parameters and check our partitioned features."
   ]
  },
  {
   "cell_type": "code",
   "execution_count": 62,
   "metadata": {},
   "outputs": [
    {
     "name": "stdout",
     "output_type": "stream",
     "text": [
      "No traits\n",
      "Accuracy on training set: 0.94363\n",
      "Accuracy on test set: 0.92105\n",
      "\n",
      "No mobility\n",
      "Accuracy on training set: 0.94007\n",
      "Accuracy on test set: 0.93413\n",
      "\n",
      "No ability score\n",
      "Accuracy on training set: 0.54285\n",
      "Accuracy on test set: 0.43029\n",
      "\n",
      "Only traits\n",
      "Accuracy on training set: 0.51322\n",
      "Accuracy on test set: 0.48172\n",
      "\n",
      "Only mobility\n",
      "Accuracy on training set: 0.24704\n",
      "Accuracy on test set: 0.18997\n",
      "\n",
      "Only ability score\n",
      "Accuracy on training set: 0.93290\n",
      "Accuracy on test set: 0.93132\n",
      "\n"
     ]
    },
    {
     "data": {
      "image/png": "[encoded data removed]",
      "text/plain": [
       "<Figure size 1440x720 with 1 Axes>"
      ]
     },
     "metadata": {
      "needs_background": "light"
     },
     "output_type": "display_data"
    }
   ],
   "source": [
    "mlp = MLPRegressor()\n",
    "graph_model_mod(mlp, names, X_mod, y, 10)"
   ]
  },
  {
   "cell_type": "markdown",
   "metadata": {},
   "source": [
    "It scored slightly higher on the partitions with no ability score, but nothing too substantial here."
   ]
  },
  {
   "cell_type": "markdown",
   "metadata": {},
   "source": [
    "# Homebrew Tests"
   ]
  },
  {
   "cell_type": "markdown",
   "metadata": {},
   "source": [
    "Now to test how well our model works in the wild. First, we need our text-to-numeric mapping since we'll be reading off actual monsters, which are stored below."
   ]
  },
  {
   "cell_type": "code",
   "execution_count": 63,
   "metadata": {},
   "outputs": [],
   "source": [
    "sizes = {\"tiny\": 0, \"small\": 1, \"medium\": 2, \"large\": 3, \"huge\": 4, \"gargantuan\": 5}\n",
    "\n",
    "types = {'humanoid (aarakocra)': 0,\n",
    " 'humanoid (any race)': 1,\n",
    " 'aberration': 2,\n",
    " 'monstrosity': 3,\n",
    " 'undead': 4,\n",
    " 'dragon': 5,\n",
    " 'ooze': 6,\n",
    " 'elemental': 7,\n",
    " 'humanoid (dwarf)': 8,\n",
    " 'fiend (demon)': 9,\n",
    " 'beast': 10,\n",
    " 'fiend (devil)': 11,\n",
    " 'construct': 12,\n",
    " 'fey': 13,\n",
    " 'fiend (yugoloth)': 14,\n",
    " 'plant': 15,\n",
    " 'monstrosity (titan)': 16,\n",
    " 'undead (titan)': 17,\n",
    " 'fey (elf)': 18,\n",
    " 'fiend (shapechanger)': 19,\n",
    " 'humanoid (human)': 20,\n",
    " 'humanoid (goblinoid)': 21,\n",
    " 'humanoid (bullywug)': 22,\n",
    " 'fiend': 23,\n",
    " 'giant': 24,\n",
    " 'giant (cloud giant)': 25,\n",
    " 'celestial': 26,\n",
    " 'aberration (shapechanger)': 27,\n",
    " 'humanoid (gnome)': 28,\n",
    " 'humanoid (shapechanger)': 29,\n",
    " 'humanoid (derro)': 30,\n",
    " 'monstrosity (shapechanger)': 31,\n",
    " 'humanoid (saurial)': 32,\n",
    " 'humanoid (elf)': 33,\n",
    " 'celestial (titan)': 34,\n",
    " 'giant (fire giant)': 35,\n",
    " 'humanoid (firenewt)': 36,\n",
    " 'humanoid (gnoll)': 37,\n",
    " 'giant (frost giant)': 38,\n",
    " 'humanoid': 39,\n",
    " 'humanoid (gith)': 40,\n",
    " 'fiend (gnoll)': 41,\n",
    " 'fiend (demon, shapechanger)': 42,\n",
    " 'humanoid (grimlock)': 43,\n",
    " 'humanoid (grung)': 44,\n",
    " 'fiend (devil, shapechanger)': 45,\n",
    " 'humanoid (kenku)': 46,\n",
    " 'humanoid (kobold)': 47,\n",
    " 'humanoid (kuo-toa)': 48,\n",
    " 'humanoid (lizardfolk)': 49,\n",
    " 'construct (inevitable)': 50,\n",
    " 'humanoid (meazel)': 51,\n",
    " 'humanoid (merfolk)': 52,\n",
    " 'giant (hill giant)': 53,\n",
    " 'humanoid (nagpa)': 54,\n",
    " 'humanoid (orc)': 55,\n",
    " 'humanoid (quaggoth)': 56,\n",
    " 'humanoid (sahuagin)': 57,\n",
    " 'giant (stone giant)': 58,\n",
    " 'giant (storm giant)': 59,\n",
    " 'undead (shapechanger)': 60,\n",
    " 'swarm of Tiny beasts': 61,\n",
    " 'humanoid (tabaxi)': 62,\n",
    " 'fiend (demon, orc)': 63,\n",
    " 'humanoid (thri-kreen)': 64,\n",
    " 'humanoid (tortle)': 65,\n",
    " 'humanoid (troglodyte)': 66,\n",
    " 'humanoid (human, shapechanger)': 67,\n",
    " 'humanoid (xvart)': 68,\n",
    " 'monstrosity (shapechanger, yuan-ti)': 69,\n",
    " 'humanoid (yuan-ti)': 70}\n",
    "\n",
    "aligns = {'neutral good': 0,\n",
    " 'any alignment': 1,\n",
    " 'lawful evil': 2,\n",
    " 'chaotic evil': 3,\n",
    " 'neutral evil': 4,\n",
    " 'chaotic good': 5,\n",
    " 'lawful good': 6,\n",
    " 'unaligned': 7,\n",
    " 'neutral': 8,\n",
    " 'lawful neutral': 9,\n",
    " 'any evil alignment': 10,\n",
    " 'any non-good alignment': 11,\n",
    " 'chaotic neutral': 12,\n",
    " 'any non-lawful alignment': 13,\n",
    " 'any chaotic alignment': 14,\n",
    " 'neutral good (50 %) or neutral evil (50 %)': 15,\n",
    " 'chaotic good (75 %) or neutral evil (25 %)': 16}"
   ]
  },
  {
   "cell_type": "markdown",
   "metadata": {},
   "source": [
    "And here's a convenience function to create a monster datapoint from its characteristics. The main benefit of this is that it converts the textual parameters to their mapped numeric values for us."
   ]
  },
  {
   "cell_type": "code",
   "execution_count": 64,
   "metadata": {},
   "outputs": [],
   "source": [
    "def make_monster(size,m_type,alignment,ac,hp,speed,swim,climb,fly,burrow,strength,dex,con,intel,wis,cha,legendary):\n",
    "    return [sizes[size],types[m_type],aligns[alignment],ac,hp,speed,swim,climb,fly,burrow,strength,dex,con,intel,wis,cha,legendary]"
   ]
  },
  {
   "cell_type": "markdown",
   "metadata": {},
   "source": [
    "Let's try it out! We chose five homebrew monsters made by the community and tested them against our models.\n",
    "\n",
    "Sources:\n",
    "\n",
    "pirate: https://www.dndbeyond.com/monsters/28629-pirate\n",
    "\n",
    "goblin shaman: https://www.dndbeyond.com/monsters/198574-goblin-shaman\n",
    "\n",
    "phoenix: https://www.dndbeyond.com/monsters/36182-phoenix\n",
    "\n",
    "cthulhu: https://www.dndbeyond.com/monsters/20188-cthulhu\n",
    "\n",
    "zombie dragon: https://www.dndbeyond.com/monsters/32839-zombie-dragon"
   ]
  },
  {
   "cell_type": "code",
   "execution_count": 65,
   "metadata": {},
   "outputs": [
    {
     "name": "stdout",
     "output_type": "stream",
     "text": [
      "knn\n",
      "Accuracy on training set: 0.91373\n",
      "Accuracy on test set: 0.90980\n",
      "\n",
      "pirate: predicted 0.50833, was 0.5\n",
      "goblin shaman: predicted 0.48333, was 0.5\n",
      "phoenix: predicted 4.73333, was 6\n",
      "cthulhu: predicted 22.93333, was 30\n",
      "zombie dragon: predicted 10.00000, was 6\n",
      "\n",
      "linear regression\n",
      "Accuracy on training set: 0.90625\n",
      "Accuracy on test set: 0.88994\n",
      "\n",
      "pirate: predicted -0.98930, was 0.5\n",
      "goblin shaman: predicted 0.69686, was 0.5\n",
      "phoenix: predicted 4.65864, was 6\n",
      "cthulhu: predicted 49.63234, was 30\n",
      "zombie dragon: predicted 7.97098, was 6\n",
      "\n",
      "mlp\n",
      "Accuracy on training set: 0.94974\n",
      "Accuracy on test set: 0.91704\n",
      "\n",
      "pirate: predicted -0.38654, was 0.5\n",
      "goblin shaman: predicted 1.19860, was 0.5\n",
      "phoenix: predicted 3.72566, was 6\n",
      "cthulhu: predicted 36.39610, was 30\n",
      "zombie dragon: predicted 8.93566, was 6\n",
      "\n"
     ]
    }
   ],
   "source": [
    "pirate = make_monster('medium','humanoid','any non-good alignment',11,7,30,0,0,0,0,12,13,10,7,7,5,0)\n",
    "goblin_shaman = make_monster('small','humanoid (goblinoid)','neutral evil',12,15,30,0,0,0,0,8,14,10,14,8,8,0)\n",
    "phoenix=make_monster('huge','monstrosity','lawful good',15,73,20,0,0,80,0,20,20,18,12,10,9,0)\n",
    "cthulhu=make_monster('gargantuan','monstrosity','lawful evil',19,900,20,30,0,50,0,30,16,25,28,18,10,1)\n",
    "zombie_dragon=make_monster('large','undead','neutral evil',16,150,40,40,0,80,0,19,14,18,15,11,9,0)\n",
    "\n",
    "monsters = [pirate, goblin_shaman, phoenix, cthulhu, zombie_dragon]\n",
    "trues = [0.5,0.5,6,30,6]\n",
    "names = ['pirate','goblin shaman','phoenix','cthulhu','zombie dragon']\n",
    "\n",
    "model_names = [\"knn\", \"linear regression\", \"mlp\"]\n",
    "models = [KNeighborsRegressor(15), LinearRegression(), MLPRegressor()]\n",
    "for m,n in zip(models, model_names):\n",
    "    print(n)\n",
    "    print_test_model(m, X, y, 1)\n",
    "    preds = m.predict(monsters)\n",
    "    for p, t, n in zip(preds, trues, names):\n",
    "        print(n + \": predicted {:.5f}, was {}\".format(p,t))\n",
    "    print()"
   ]
  },
  {
   "cell_type": "markdown",
   "metadata": {},
   "source": [
    "Could be better all things considered, but it's not the worst approximations. "
   ]
  },
  {
   "cell_type": "markdown",
   "metadata": {},
   "source": [
    "# Conclusions"
   ]
  },
  {
   "cell_type": "markdown",
   "metadata": {},
   "source": [
    "Unsurprisingly, determining the challenge rating of a DnD monster is a task best suited for regression. Of the models we tested, MLPs performed the best, though all of them performed reasonably well in the 90-95% accuracy range. In all cases, ability scores contributed most to the accuracy of the model."
   ]
  },
  {
   "cell_type": "code",
   "execution_count": null,
   "metadata": {},
   "outputs": [],
   "source": []
  }
 ],
 "metadata": {
  "kernelspec": {
   "display_name": "Python 3",
   "language": "python",
   "name": "python3"
  },
  "language_info": {
   "codemirror_mode": {
    "name": "ipython",
    "version": 3
   },
   "file_extension": ".py",
   "mimetype": "text/x-python",
   "name": "python",
   "nbconvert_exporter": "python",
   "pygments_lexer": "ipython3",
   "version": "3.8.5"
  }
 },
 "nbformat": 4,
 "nbformat_minor": 2
}
